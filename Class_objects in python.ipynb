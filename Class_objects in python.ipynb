{
 "cells": [
  {
   "cell_type": "code",
   "execution_count": 1,
   "id": "13b18763",
   "metadata": {},
   "outputs": [
    {
     "name": "stdout",
     "output_type": "stream",
     "text": [
      "x=1,y=2,z=3\n"
     ]
    }
   ],
   "source": [
    "class Point3D:\n",
    "    def __init__(self,x,y,z):\n",
    "        self.axe1=x\n",
    "        self.axe2=y\n",
    "        self.axe3=z\n",
    "allaxe = Point3D(1,2,3)\n",
    "print(\"x={},y={},z={}\".format(allaxe.axe1,allaxe.axe2,allaxe.axe3))"
   ]
  },
  {
   "cell_type": "code",
   "execution_count": 5,
   "id": "ddd231c8",
   "metadata": {},
   "outputs": [
    {
     "name": "stdout",
     "output_type": "stream",
     "text": [
      "4\n",
      "3\n",
      "area i 12 perimeter is 14\n"
     ]
    }
   ],
   "source": [
    "class Rectangle:\n",
    "    def __init__(self, l, w):\n",
    "        self.length = l\n",
    "        self.width  = w\n",
    "    def area(self):\n",
    "        return self.length*self.width\n",
    "    def perimeter(self):\n",
    "        return 2*(self.length+self.width)\n",
    "\n",
    "R = Rectangle(int(input()),int(input()))\n",
    "print(\"area i {} perimeter is {}\".format(R.area(),R.perimeter()))"
   ]
  },
  {
   "cell_type": "code",
   "execution_count": null,
   "id": "911ed755",
   "metadata": {},
   "outputs": [],
   "source": [
    "class circle:\n",
    "  def __init__(self,r):\n",
    "    self.radius=r\n",
    "  def area(self):\n",
    "    return self.radius**2*3.14\n",
    "  def perimeter(self):\n",
    "    return self.radius*2*3.14\n",
    "R = circle(int(input(\"\")))\n",
    "print(\"area is {} ,and perimeter is {}\".format(R.area(),R.perimeter()))"
   ]
  },
  {
   "cell_type": "code",
   "execution_count": 2,
   "id": "71e1f65f",
   "metadata": {},
   "outputs": [
    {
     "name": "stdout",
     "output_type": "stream",
     "text": [
      "WELCOME\n",
      "ENTREZ UN MONTANT À DEPOSER300\n",
      "Montant Déposé:300.0$\n",
      "ENTREZ UN MONTANT À RETIRER 200\n",
      "Montant Retiré: 200.0$\n",
      "Vous Avez 100.0$ Dans Votre Compte\n"
     ]
    }
   ],
   "source": [
    "class bank:\n",
    "    def __init__(self):\n",
    "      self.balance=0\n",
    "      print(\"welcome\".upper())\n",
    "    def depot(self):\n",
    "      montant = float(input(\"entrez un montant à deposer\".upper()))\n",
    "      self.balance += montant\n",
    "      print(\"montant déposé:{}$\".format(montant).title())\n",
    "    def retrait(self):\n",
    "        montant2= float(input(\"entrez un montant à retirer \".upper()))\n",
    "        if self.balance>=montant2:\n",
    "            self.balance-=montant2\n",
    "            print(\"montant retiré: {}$\".format(montant2).title())\n",
    "        else:\n",
    "            print(\"vous n'avez pas cette somme! ya tallab!!\".upper())\n",
    "\n",
    "    def reste(self):\n",
    "        print(\"vous avez {}$ dans votre compte\".format(self.balance).title())\n",
    "s=bank()\n",
    "s.depot()\n",
    "s.retrait()\n",
    "s.reste()"
   ]
  },
  {
   "cell_type": "code",
   "execution_count": null,
   "id": "e41f9f9f",
   "metadata": {},
   "outputs": [],
   "source": []
  }
 ],
 "metadata": {
  "kernelspec": {
   "display_name": "Python 3 (ipykernel)",
   "language": "python",
   "name": "python3"
  },
  "language_info": {
   "codemirror_mode": {
    "name": "ipython",
    "version": 3
   },
   "file_extension": ".py",
   "mimetype": "text/x-python",
   "name": "python",
   "nbconvert_exporter": "python",
   "pygments_lexer": "ipython3",
   "version": "3.9.12"
  }
 },
 "nbformat": 4,
 "nbformat_minor": 5
}
